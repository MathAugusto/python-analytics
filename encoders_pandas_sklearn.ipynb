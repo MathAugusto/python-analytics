{
  "nbformat": 4,
  "nbformat_minor": 0,
  "metadata": {
    "colab": {
      "name": "encoders-pandas-sklearn",
      "provenance": [],
      "collapsed_sections": [],
      "authorship_tag": "ABX9TyNfO8wbrwGw06p2MqTOhguY"
    },
    "kernelspec": {
      "name": "python3",
      "display_name": "Python 3"
    }
  },
  "cells": [
    {
      "cell_type": "markdown",
      "metadata": {
        "id": "ejikaomjpvoP"
      },
      "source": [
        "# **USANDO ENCODERS COM PANDAS E SKLEARN**"
      ]
    },
    {
      "cell_type": "markdown",
      "metadata": {
        "id": "CUuJgsEtpw41"
      },
      "source": [
        "### **Import dos dados**"
      ]
    },
    {
      "cell_type": "code",
      "metadata": {
        "id": "4ag3ij16kEWk"
      },
      "source": [
        "import pandas as pd\n",
        "import numpy as np"
      ],
      "execution_count": 1,
      "outputs": []
    },
    {
      "cell_type": "code",
      "metadata": {
        "colab": {
          "base_uri": "https://localhost:8080/",
          "height": 348
        },
        "id": "3QRhS7Qcpuxy",
        "outputId": "56cab4b8-2271-4222-d7ef-39c77a0237eb"
      },
      "source": [
        "base = pd.read_csv('census.csv')\n",
        "base.head()"
      ],
      "execution_count": 2,
      "outputs": [
        {
          "output_type": "execute_result",
          "data": {
            "text/html": [
              "<div>\n",
              "<style scoped>\n",
              "    .dataframe tbody tr th:only-of-type {\n",
              "        vertical-align: middle;\n",
              "    }\n",
              "\n",
              "    .dataframe tbody tr th {\n",
              "        vertical-align: top;\n",
              "    }\n",
              "\n",
              "    .dataframe thead th {\n",
              "        text-align: right;\n",
              "    }\n",
              "</style>\n",
              "<table border=\"1\" class=\"dataframe\">\n",
              "  <thead>\n",
              "    <tr style=\"text-align: right;\">\n",
              "      <th></th>\n",
              "      <th>age</th>\n",
              "      <th>workclass</th>\n",
              "      <th>final-weight</th>\n",
              "      <th>education</th>\n",
              "      <th>education-num</th>\n",
              "      <th>marital-status</th>\n",
              "      <th>occupation</th>\n",
              "      <th>relationship</th>\n",
              "      <th>race</th>\n",
              "      <th>sex</th>\n",
              "      <th>capital-gain</th>\n",
              "      <th>capital-loos</th>\n",
              "      <th>hour-per-week</th>\n",
              "      <th>native-country</th>\n",
              "      <th>income</th>\n",
              "    </tr>\n",
              "  </thead>\n",
              "  <tbody>\n",
              "    <tr>\n",
              "      <th>0</th>\n",
              "      <td>39</td>\n",
              "      <td>State-gov</td>\n",
              "      <td>77516</td>\n",
              "      <td>Bachelors</td>\n",
              "      <td>13</td>\n",
              "      <td>Never-married</td>\n",
              "      <td>Adm-clerical</td>\n",
              "      <td>Not-in-family</td>\n",
              "      <td>White</td>\n",
              "      <td>Male</td>\n",
              "      <td>2174</td>\n",
              "      <td>0</td>\n",
              "      <td>40</td>\n",
              "      <td>United-States</td>\n",
              "      <td>&lt;=50K</td>\n",
              "    </tr>\n",
              "    <tr>\n",
              "      <th>1</th>\n",
              "      <td>50</td>\n",
              "      <td>Self-emp-not-inc</td>\n",
              "      <td>83311</td>\n",
              "      <td>Bachelors</td>\n",
              "      <td>13</td>\n",
              "      <td>Married-civ-spouse</td>\n",
              "      <td>Exec-managerial</td>\n",
              "      <td>Husband</td>\n",
              "      <td>White</td>\n",
              "      <td>Male</td>\n",
              "      <td>0</td>\n",
              "      <td>0</td>\n",
              "      <td>13</td>\n",
              "      <td>United-States</td>\n",
              "      <td>&lt;=50K</td>\n",
              "    </tr>\n",
              "    <tr>\n",
              "      <th>2</th>\n",
              "      <td>38</td>\n",
              "      <td>Private</td>\n",
              "      <td>215646</td>\n",
              "      <td>HS-grad</td>\n",
              "      <td>9</td>\n",
              "      <td>Divorced</td>\n",
              "      <td>Handlers-cleaners</td>\n",
              "      <td>Not-in-family</td>\n",
              "      <td>White</td>\n",
              "      <td>Male</td>\n",
              "      <td>0</td>\n",
              "      <td>0</td>\n",
              "      <td>40</td>\n",
              "      <td>United-States</td>\n",
              "      <td>&lt;=50K</td>\n",
              "    </tr>\n",
              "    <tr>\n",
              "      <th>3</th>\n",
              "      <td>53</td>\n",
              "      <td>Private</td>\n",
              "      <td>234721</td>\n",
              "      <td>11th</td>\n",
              "      <td>7</td>\n",
              "      <td>Married-civ-spouse</td>\n",
              "      <td>Handlers-cleaners</td>\n",
              "      <td>Husband</td>\n",
              "      <td>Black</td>\n",
              "      <td>Male</td>\n",
              "      <td>0</td>\n",
              "      <td>0</td>\n",
              "      <td>40</td>\n",
              "      <td>United-States</td>\n",
              "      <td>&lt;=50K</td>\n",
              "    </tr>\n",
              "    <tr>\n",
              "      <th>4</th>\n",
              "      <td>28</td>\n",
              "      <td>Private</td>\n",
              "      <td>338409</td>\n",
              "      <td>Bachelors</td>\n",
              "      <td>13</td>\n",
              "      <td>Married-civ-spouse</td>\n",
              "      <td>Prof-specialty</td>\n",
              "      <td>Wife</td>\n",
              "      <td>Black</td>\n",
              "      <td>Female</td>\n",
              "      <td>0</td>\n",
              "      <td>0</td>\n",
              "      <td>40</td>\n",
              "      <td>Cuba</td>\n",
              "      <td>&lt;=50K</td>\n",
              "    </tr>\n",
              "  </tbody>\n",
              "</table>\n",
              "</div>"
            ],
            "text/plain": [
              "   age          workclass  final-weight  ... hour-per-week  native-country  income\n",
              "0   39          State-gov         77516  ...            40   United-States   <=50K\n",
              "1   50   Self-emp-not-inc         83311  ...            13   United-States   <=50K\n",
              "2   38            Private        215646  ...            40   United-States   <=50K\n",
              "3   53            Private        234721  ...            40   United-States   <=50K\n",
              "4   28            Private        338409  ...            40            Cuba   <=50K\n",
              "\n",
              "[5 rows x 15 columns]"
            ]
          },
          "metadata": {
            "tags": []
          },
          "execution_count": 2
        }
      ]
    },
    {
      "cell_type": "code",
      "metadata": {
        "colab": {
          "base_uri": "https://localhost:8080/"
        },
        "id": "Nf9lcQ2Jpu3Y",
        "outputId": "c7beccb7-7a91-4013-800b-1a2da60441ce"
      },
      "source": [
        "previsores = base.iloc[:,0:14].values\n",
        "previsores"
      ],
      "execution_count": 3,
      "outputs": [
        {
          "output_type": "execute_result",
          "data": {
            "text/plain": [
              "array([[39, ' State-gov', 77516, ..., 0, 40, ' United-States'],\n",
              "       [50, ' Self-emp-not-inc', 83311, ..., 0, 13, ' United-States'],\n",
              "       [38, ' Private', 215646, ..., 0, 40, ' United-States'],\n",
              "       ...,\n",
              "       [23, ' Private', 193090, ..., 0, 40, ' United-States'],\n",
              "       [64, ' Private', 151364, ..., 0, 40, ' United-States'],\n",
              "       [70, ' Local-gov', 88638, ..., 0, 50, ' United-States']],\n",
              "      dtype=object)"
            ]
          },
          "metadata": {
            "tags": []
          },
          "execution_count": 3
        }
      ]
    },
    {
      "cell_type": "code",
      "metadata": {
        "colab": {
          "base_uri": "https://localhost:8080/"
        },
        "id": "MpGv8c0Kpu6K",
        "outputId": "bc8abbc0-2207-4b39-ef8d-418ab799bb0b"
      },
      "source": [
        "classe = base.iloc[:,14].values\n",
        "classe"
      ],
      "execution_count": 4,
      "outputs": [
        {
          "output_type": "execute_result",
          "data": {
            "text/plain": [
              "array([' <=50K', ' <=50K', ' <=50K', ..., ' <=50K', ' <=50K', ' >5'],\n",
              "      dtype=object)"
            ]
          },
          "metadata": {
            "tags": []
          },
          "execution_count": 4
        }
      ]
    },
    {
      "cell_type": "markdown",
      "metadata": {
        "id": "tf5j0V-yrcQR"
      },
      "source": [
        "### **Substituir strings por encoders**"
      ]
    },
    {
      "cell_type": "code",
      "metadata": {
        "id": "uRm5321rpu85"
      },
      "source": [
        "# Import da função e instancia do objeto\n",
        "from sklearn.preprocessing import LabelEncoder\n",
        "labelencoder_previsores = LabelEncoder()"
      ],
      "execution_count": 5,
      "outputs": []
    },
    {
      "cell_type": "code",
      "metadata": {
        "colab": {
          "base_uri": "https://localhost:8080/"
        },
        "id": "FhNAjPbDtgTT",
        "outputId": "64268dd7-3571-47a8-a1f1-b79e8c1c6bc4"
      },
      "source": [
        "# Vendo antes do encoder o resultado em uma das linhas:\n",
        "previsores[0,:]"
      ],
      "execution_count": 6,
      "outputs": [
        {
          "output_type": "execute_result",
          "data": {
            "text/plain": [
              "array([39, ' State-gov', 77516, ' Bachelors', 13, ' Never-married',\n",
              "       ' Adm-clerical', ' Not-in-family', ' White', ' Male', 2174, 0, 40,\n",
              "       ' United-States'], dtype=object)"
            ]
          },
          "metadata": {
            "tags": []
          },
          "execution_count": 6
        }
      ]
    },
    {
      "cell_type": "code",
      "metadata": {
        "id": "ZBxYgRdNpvAF"
      },
      "source": [
        "# Aplicando objeto encoder nas colunas desejadas:\n",
        "previsores[:, 1] = labelencoder_previsores.fit_transform(previsores[:, 1])\n",
        "previsores[:, 3] = labelencoder_previsores.fit_transform(previsores[:, 3])\n",
        "previsores[:, 5] = labelencoder_previsores.fit_transform(previsores[:, 5])\n",
        "previsores[:, 6] = labelencoder_previsores.fit_transform(previsores[:, 6])\n",
        "previsores[:, 7] = labelencoder_previsores.fit_transform(previsores[:, 7])\n",
        "previsores[:, 8] = labelencoder_previsores.fit_transform(previsores[:, 8])\n",
        "previsores[:, 9] = labelencoder_previsores.fit_transform(previsores[:, 9])\n",
        "previsores[:, 13] = labelencoder_previsores.fit_transform(previsores[:, 13])"
      ],
      "execution_count": 7,
      "outputs": []
    },
    {
      "cell_type": "code",
      "metadata": {
        "colab": {
          "base_uri": "https://localhost:8080/"
        },
        "id": "W94tLn9ysbIw",
        "outputId": "7c0480b0-10e2-4619-e771-2ab16433a1f2"
      },
      "source": [
        "# Vendo o resultado final em uma das linhas:\n",
        "# Nota-se que todas os campos foram cobertos pelo encoder.\n",
        "previsores[0,:]"
      ],
      "execution_count": 8,
      "outputs": [
        {
          "output_type": "execute_result",
          "data": {
            "text/plain": [
              "array([39, 7, 77516, 9, 13, 4, 1, 1, 4, 1, 2174, 0, 40, 37], dtype=object)"
            ]
          },
          "metadata": {
            "tags": []
          },
          "execution_count": 8
        }
      ]
    },
    {
      "cell_type": "markdown",
      "metadata": {
        "id": "_JGdTNsZ0QZ-"
      },
      "source": [
        "### **USANDO O ONEHOTENCODER (MELHOR PARA DUMMY VARIABLES)**"
      ]
    },
    {
      "cell_type": "code",
      "metadata": {
        "id": "CEYZOJYwsxxc"
      },
      "source": [
        "from sklearn.preprocessing import OneHotEncoder\n",
        "from sklearn.compose import ColumnTransformer\n",
        "onehotencorder = ColumnTransformer(transformers=[(\"OneHot\", OneHotEncoder(), [1,3,5,6,7,8,9,13])],remainder='passthrough')"
      ],
      "execution_count": 9,
      "outputs": []
    },
    {
      "cell_type": "code",
      "metadata": {
        "id": "jPXxxULp2oEN"
      },
      "source": [
        "# passando o Hotenconder para os previsores:\n",
        "previsores = onehotencorder.fit_transform(previsores).toarray()"
      ],
      "execution_count": 10,
      "outputs": []
    },
    {
      "cell_type": "code",
      "metadata": {
        "colab": {
          "base_uri": "https://localhost:8080/"
        },
        "id": "miOwr9K925NJ",
        "outputId": "58a350e5-b80a-4ed3-f09a-ff3ba75d59fe"
      },
      "source": [
        "previsores[0,:]"
      ],
      "execution_count": 11,
      "outputs": [
        {
          "output_type": "execute_result",
          "data": {
            "text/plain": [
              "array([0.0000e+00, 0.0000e+00, 0.0000e+00, 0.0000e+00, 0.0000e+00,\n",
              "       0.0000e+00, 0.0000e+00, 1.0000e+00, 0.0000e+00, 0.0000e+00,\n",
              "       0.0000e+00, 0.0000e+00, 0.0000e+00, 0.0000e+00, 0.0000e+00,\n",
              "       0.0000e+00, 0.0000e+00, 0.0000e+00, 1.0000e+00, 0.0000e+00,\n",
              "       0.0000e+00, 0.0000e+00, 0.0000e+00, 0.0000e+00, 0.0000e+00,\n",
              "       0.0000e+00, 0.0000e+00, 0.0000e+00, 0.0000e+00, 1.0000e+00,\n",
              "       0.0000e+00, 0.0000e+00, 0.0000e+00, 1.0000e+00, 0.0000e+00,\n",
              "       0.0000e+00, 0.0000e+00, 0.0000e+00, 0.0000e+00, 0.0000e+00,\n",
              "       0.0000e+00, 0.0000e+00, 0.0000e+00, 0.0000e+00, 0.0000e+00,\n",
              "       0.0000e+00, 0.0000e+00, 0.0000e+00, 1.0000e+00, 0.0000e+00,\n",
              "       0.0000e+00, 0.0000e+00, 0.0000e+00, 0.0000e+00, 0.0000e+00,\n",
              "       0.0000e+00, 0.0000e+00, 1.0000e+00, 0.0000e+00, 1.0000e+00,\n",
              "       0.0000e+00, 0.0000e+00, 0.0000e+00, 0.0000e+00, 0.0000e+00,\n",
              "       0.0000e+00, 0.0000e+00, 0.0000e+00, 0.0000e+00, 0.0000e+00,\n",
              "       0.0000e+00, 0.0000e+00, 0.0000e+00, 0.0000e+00, 0.0000e+00,\n",
              "       0.0000e+00, 0.0000e+00, 0.0000e+00, 0.0000e+00, 0.0000e+00,\n",
              "       0.0000e+00, 0.0000e+00, 0.0000e+00, 0.0000e+00, 0.0000e+00,\n",
              "       0.0000e+00, 0.0000e+00, 0.0000e+00, 0.0000e+00, 0.0000e+00,\n",
              "       0.0000e+00, 0.0000e+00, 0.0000e+00, 0.0000e+00, 0.0000e+00,\n",
              "       0.0000e+00, 0.0000e+00, 1.0000e+00, 0.0000e+00, 0.0000e+00,\n",
              "       3.9000e+01, 7.7516e+04, 1.3000e+01, 2.1740e+03, 0.0000e+00,\n",
              "       4.0000e+01])"
            ]
          },
          "metadata": {
            "tags": []
          },
          "execution_count": 11
        }
      ]
    },
    {
      "cell_type": "code",
      "metadata": {
        "id": "tGZbezkH2z6Z"
      },
      "source": [
        "# Encode na classe\n",
        "labelencorder_classe = LabelEncoder()\n",
        "classe = labelencorder_classe.fit_transform(classe)"
      ],
      "execution_count": 12,
      "outputs": []
    },
    {
      "cell_type": "code",
      "metadata": {
        "colab": {
          "base_uri": "https://localhost:8080/"
        },
        "id": "L16fKZx83E7g",
        "outputId": "db9d4d99-f7df-4665-8caa-a67f2f0cfd6b"
      },
      "source": [
        "classe[0:10,]"
      ],
      "execution_count": 13,
      "outputs": [
        {
          "output_type": "execute_result",
          "data": {
            "text/plain": [
              "array([0, 0, 0, 0, 0, 0, 0, 2, 2, 2])"
            ]
          },
          "metadata": {
            "tags": []
          },
          "execution_count": 13
        }
      ]
    },
    {
      "cell_type": "markdown",
      "metadata": {
        "id": "wWSK1p5z3Tk6"
      },
      "source": [
        "### **ESCALONAMENTO DE ATRIBUTOS**"
      ]
    },
    {
      "cell_type": "code",
      "metadata": {
        "id": "ZAgjSEQM3FE9"
      },
      "source": [
        "# Import da função StandardScaler StandardScaler\n",
        "from sklearn.preprocessing import StandardScaler\n",
        "scaler = StandardScaler()"
      ],
      "execution_count": 14,
      "outputs": []
    },
    {
      "cell_type": "code",
      "metadata": {
        "id": "Jz1-WpUW3FID"
      },
      "source": [
        "previsores =  scaler.fit_transform(previsores)"
      ],
      "execution_count": 15,
      "outputs": []
    },
    {
      "cell_type": "code",
      "metadata": {
        "colab": {
          "base_uri": "https://localhost:8080/"
        },
        "id": "eRCSumG2Gj6Y",
        "outputId": "c2dd4eb4-e5a9-497f-8302-e8a24a6c5897"
      },
      "source": [
        "previsores"
      ],
      "execution_count": 16,
      "outputs": [
        {
          "output_type": "execute_result",
          "data": {
            "text/plain": [
              "array([[-0.25085523, -0.16831613, -0.25919835, ...,  0.15401978,\n",
              "        -0.22195594, -0.04149311],\n",
              "       [-0.25085523, -0.16831613, -0.25919835, ..., -0.14506114,\n",
              "        -0.22195594, -2.24187969],\n",
              "       [-0.25085523, -0.16831613, -0.25919835, ..., -0.14506114,\n",
              "        -0.22195594, -0.04149311],\n",
              "       ...,\n",
              "       [-0.25085523, -0.16831613, -0.25919835, ...,  0.36037736,\n",
              "        -0.22195594, -0.04149311],\n",
              "       [-0.25085523, -0.16831613, -0.25919835, ..., -0.14506114,\n",
              "        -0.22195594, -0.04149311],\n",
              "       [-0.25085523, -0.16831613,  3.85804922, ...,  0.94120516,\n",
              "        -0.22195594,  0.77346488]])"
            ]
          },
          "metadata": {
            "tags": []
          },
          "execution_count": 16
        }
      ]
    },
    {
      "cell_type": "markdown",
      "metadata": {
        "id": "bZSoCbRsP_JT"
      },
      "source": [
        "### **DIVISÃO TREINO E TESTE**"
      ]
    },
    {
      "cell_type": "code",
      "metadata": {
        "id": "uU4jWvpSGmCV"
      },
      "source": [
        "from sklearn.model_selection import train_test_split\n",
        "previsores_train, previsores_test, classe_train, classe_test = train_test_split(previsores, classe, test_size=0.3, random_state=0)"
      ],
      "execution_count": 18,
      "outputs": []
    }
  ]
}